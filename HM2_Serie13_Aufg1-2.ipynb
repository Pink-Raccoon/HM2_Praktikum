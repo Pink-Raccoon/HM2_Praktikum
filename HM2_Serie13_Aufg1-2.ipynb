{
 "cells": [
  {
   "cell_type": "markdown",
   "metadata": {
    "slideshow": {
     "slide_type": "slide"
    }
   },
   "source": [
    "# Umwandlung einer DGL k-ter Ordnung in ein System von k DGL 1. Ordnung und Lösung in Python\n",
    "\n",
    "#### Erstellt von R. Knaack, 14.05.2021 für die Vorlesung Höhere Mathematik 2 der ZHAW SoE\n",
    "In diesem Tutorial geht es um die Lösung zweier Aufgaben, bei den Sie die Umwandlung einer DGL höherer Ordnung in eine vektorielle DGL 1. Ordnung üben können und die Schritte der Lösung in Python ausführen sollen."
   ]
  },
  {
   "cell_type": "markdown",
   "metadata": {},
   "source": [
    "# Aufgabe 1\n",
    "(Bemerkung: Diese Aufgabe entspricht dem ersten Teil der Aufgaben 8.6 und 8.7 im Skript, erweitert sie allerdings um die Lösung in Python für das klass. Euler-Verfahren und das klass. vierstufige Runkge-Kutta Verfahren.)\n",
    "\n",
    "Führen Sie die folgende lineare Differentialgleichungen auf ein System erster Ordnung zurück und berechnen Sie die Lösung in Python anschliessend mit dem klass. Euler-Verfahren und dem klass. Runge-Kutta Verfahren für $x\\in[0,1]$ mit $h=0.1$:\n",
    "\n",
    "$$y^{(4)}+1.1y'''-0.1y''-0.3y=\\sin x+5$$ \n",
    "\n",
    "mit $y(0)=y''(0)=y'''(0)=0$ und $y'(0)=2$ "
   ]
  },
  {
   "cell_type": "markdown",
   "metadata": {},
   "source": [
    "## Lösung Aufgabe 1\n"
   ]
  },
  {
   "cell_type": "markdown",
   "metadata": {},
   "source": [
    "### A) Umwandlung der DGL 4. Ordnung in ein vektorielles System von 4 DGL 1. Ordnung\n",
    "Analog zum Vorgehen in Beispiel 8.9 und dem Rezept im Skript (Kap. 8.8.1). Versuchen Sie, die Schritte selbst durchzuführen, und klicken Sie anschliessend auf Details, um sich die Lösung anzeigen zu lassen.\n",
    "\n",
    "+ ####    Schritt 1: Auflösen der DGL nach der höchsten Ableitung (hier: 4): \n",
    "<details>\n",
    "$$y^{(4)}=\\sin x+5-1.1y'''+0.1y''+0.3y$$"
   ]
  },
  {
   "cell_type": "markdown",
   "metadata": {},
   "source": [
    "- #### Schritt 2: Neue Funktionen einführen bis zur höchsten Ableitung minus 1 (hier: 3):\n",
    "<details>\n",
    "$$\\begin{eqnarray*}\n",
    "z_{1}(x) & = & y(x)\\\\\n",
    "z_{2}(x) & = & y'(x)\\\\\n",
    "z_{3}(x) & = & y''(x)\\\\\n",
    "z_{4}(x) & = & y'''(x)\n",
    "\\end{eqnarray*}$$"
   ]
  },
  {
   "cell_type": "markdown",
   "metadata": {},
   "source": [
    "- #### Schritt 3: Neue Funktionen ableiten und y, y', y'', y''' in $z_4'(x)$ ersetzen:\n",
    "<details>\n",
    "$$\\begin{eqnarray*}\n",
    "z_{1}'(x) & = & y'(x)=z_{2}(x)\\\\\n",
    "z_{2}'(x) & = & y''(x)=z_{3}(x)\\\\\n",
    "z_{3}'(x) & = & y'''(x)=z_{4}(x)\\\\\n",
    "z_{4}'(x) & = & y^{(4)}(x)=\\sin x+5-1.1y'''+0.1y''+0.3y =  \\sin x+5-1.1\\cdot z_{4}(x)+0.1\\cdot z_{3}(x)+0.3\\cdot z_{1}(x)\n",
    "\\end{eqnarray*}$$"
   ]
  },
  {
   "cell_type": "markdown",
   "metadata": {},
   "source": [
    "- #### Schritt 4: Aufschreiben des Anfangswertproblems in vektorieller Form\n",
    "<details>\n",
    "$$\n",
    "\\mathbf{z}'=\\left(\\begin{array}{c}\n",
    "z_{1}'\\\\\n",
    "z_{2}'\\\\\n",
    "z_{3}'\\\\\n",
    "z_{4}'\n",
    "\\end{array}\\right)=\\left(\\begin{array}{c}\n",
    "z_{2}\\\\\n",
    "z_{3}\\\\\n",
    "z_{4}\\\\\n",
    "\\sin x+5-1.1\\cdot z_{4}+0.1\\cdot z_{3}+0.3\\cdot z_{1}\n",
    "\\end{array}\\right)=\\boldsymbol{f}(x,\\mathbf{z})\\ \\textrm{und }\\mathbf{z}(0)=\\mathbf{z}^{(0)}=\\left(\\begin{array}{c}\n",
    "0\\\\\n",
    "2\\\\\n",
    "0\\\\\n",
    "0\n",
    "\\end{array}\\right)\n",
    "$$"
   ]
  },
  {
   "cell_type": "markdown",
   "metadata": {},
   "source": [
    "### B) Numerische Lösung einer vektoriellen DGL 1. Ordnung "
   ]
  },
  {
   "cell_type": "markdown",
   "metadata": {},
   "source": [
    "Wir suchen jetzt also die Lösung \n",
    "$$\\mathbf{z}(x)=\\left(\\begin{array}{c}\n",
    "z_{1}\\\\\n",
    "z_{2}\\\\\n",
    "z_{3}\\\\\n",
    "z_{4}\n",
    "\\end{array}\\right)\n",
    "$$\n",
    "\n",
    "der obigen vektoriellen DGL 1. Ordnung mit der Anfangsbedingung\n",
    "\n",
    "$$\\mathbf{z}(0)=\\mathbf{z}^{(0)}=\\left(\\begin{array}{c}\n",
    "0\\\\\n",
    "2\\\\\n",
    "0\\\\\n",
    "0\n",
    "\\end{array}\\right)\n",
    "$$\n",
    "\n",
    "Die Lösung $y(x)$ der usprünglichen DGL 4. Ordnung entspricht dann der ersten Komponente des Vektors $\\mathbf{z}(x)$, da wir ja $z_1(x)=y(x)$ definiert hatten.\n",
    "\n",
    "Wir verwenden dazu das folgende Rezept:\n",
    "\n"
   ]
  },
  {
   "cell_type": "markdown",
   "metadata": {},
   "source": [
    "#### Allgemeines Rezept für das Lösen eines Systems von k DGL 1. Ordnung (gemäss Skript, Kap. 8.8.2)\n",
    "\n",
    "Ist ein Lösungs-Verfahren \n",
    "$$\\begin{eqnarray*}\n",
    "x_{i+1}\t&=&\tx_{i}+h \\\\\n",
    "y_{i+1}\t&=&\ty_{i}+Steigung\\cdot h\n",
    "\\end{eqnarray*}$$\n",
    "\n",
    "für die eindimensionale Gleichung \n",
    "$$y'(x)=f\\left(x,\\,y(x)\\right),\\;y(x_{0})=y_{0}$$\n",
    "definiert, so kann es völlig analog erweitert werden als \n",
    "$$\\begin{eqnarray*}\n",
    "x_{i}\t&=&\tx_{i}+h \\\\\n",
    "\\boldsymbol{y}^{(i+1)}\t&=&\t\\boldsymbol{y}^{(i)}+Steigung\\cdot h\n",
    "\\end{eqnarray*}$$\n",
    "für ein System \n",
    "$$\\boldsymbol{y}'=\\boldsymbol{f}\\left(x,\\boldsymbol{y}(x)\\right)\\ \\textrm{mit }\\boldsymbol{y}(x_{0})=\\boldsymbol{y}^{(0)},$$\n",
    "\n",
    "(wobei wie üblich ein hochgestellter Index in Klammern $\\boldsymbol{y}^{(i)}$ einen Vektor aus $\\mathbb{R}^{n}$ nach der i-ten Iteration bezeichnet).\n",
    "\n",
    "Dabei werden ersetzt:\n",
    "\n",
    "- $y'$ durch den Vektor $\\boldsymbol{y}'$ der Ableitungen der einzelnen Komponenten, \n",
    "\n",
    "- $f\\left(x,y(x)\\right)$ durch die vektorwertige Funktion $\\boldsymbol{f}\\left(x,\\boldsymbol{y}(x)\\right)$ und \n",
    "\n",
    "- die skalare Anfangsbedingung $y(x_{0})=y_{0}$ durch die Anfangsbedingung $\\boldsymbol{y}(x_{0})=\\boldsymbol{y}^{(0)}$ . \n",
    "\n",
    "Es ist dann also\n",
    "$$\n",
    "\\boldsymbol{y}(x)=\\left(\\begin{array}{c}\n",
    "y_{1}(x)\\\\\n",
    "y_{2}(x)\\\\\n",
    "\\vdots\\\\\n",
    "y_{n}(x)\n",
    "\\end{array}\\right),\\!\\boldsymbol{y}'=\\left(\\begin{array}{c}\n",
    "y'_{1}(x)\\\\\n",
    "y'_{2}(x)\\\\\n",
    "\\vdots\\\\\n",
    "y'_{n}(x)\n",
    "\\end{array}\\right),\\ \\boldsymbol{f}\\left(x,\\boldsymbol{y}(x)\\right)=\\left(\\begin{array}{c}\n",
    "f_{1}\\left(x,\\boldsymbol{y}(x)\\right)\\\\\n",
    "f_{2}\\left(x,\\boldsymbol{y}(x)\\right)\\\\\n",
    "\\vdots\\\\\n",
    "f_{n}\\left(x,\\boldsymbol{y}(x)\\right)\n",
    "\\end{array}\\right),\\ \\boldsymbol{y}(x_{0})=\\boldsymbol{y}^{(0)}=\\left(\\begin{array}{c}\n",
    "y_{1}(x_{0})\\\\\n",
    "y_{2}(x_{0})\\\\\n",
    "\\vdots\\\\\n",
    "y_{n}(x_{0})\n",
    "\\end{array}\\right).\n",
    "$$"
   ]
  },
  {
   "cell_type": "markdown",
   "metadata": {},
   "source": [
    "### C) Lösung für das klass. Euler Verfahren in Python\n",
    "\n",
    "- Als einfachstes Verfahren wenden wir nun das klass. Euler Verfahren auf die Lösung der oben hergeleiteten vektoriellen DGL an:\n",
    "<details>\n",
    "$$\n",
    "\\mathbf{z}'=\\left(\\begin{array}{c}\n",
    "z_{1}'\\\\\n",
    "z_{2}'\\\\\n",
    "z_{3}'\\\\\n",
    "z_{4}'\n",
    "\\end{array}\\right)=\\left(\\begin{array}{c}\n",
    "z_{2}\\\\\n",
    "z_{3}\\\\\n",
    "z_{4}\\\\\n",
    "\\sin x+5-1.1\\cdot z_{4}+0.1\\cdot z_{3}+0.3\\cdot z_{1}\n",
    "\\end{array}\\right)=\\boldsymbol{f}(x,\\mathbf{z})\\ \\textrm{und }\\mathbf{z}(0)=\\mathbf{z}^{(0)}=\\left(\\begin{array}{c}\n",
    "0\\\\\n",
    "2\\\\\n",
    "0\\\\\n",
    "0\n",
    "\\end{array}\\right)\n",
    "$$\n",
    "\n",
    "    für $x\\in[0,1]$ und $h=0.1$ (also $n=\\frac{b-a}{h}=10$).\n",
    "   "
   ]
  },
  {
   "cell_type": "markdown",
   "metadata": {},
   "source": [
    " \n",
    "- Die Definition des klass. Euler-Verfahrens für Vektoren lautet:\n",
    "  $$\\begin{eqnarray*}\n",
    "    x_{i+1}\t&=&\tx_{i}+h \\\\\n",
    "    \\boldsymbol{z}^{(i+1)}\t&=&\t\\boldsymbol{z}^{(i)}+\\boldsymbol{f}(x_i,\\mathbf{z}^{(i)})\\cdot h\n",
    "    \\end{eqnarray*}\n",
    "  $$"
   ]
  },
  {
   "cell_type": "markdown",
   "metadata": {},
   "source": [
    "- Achtung: Der Vektor $\\mathbf{z}$ hat 4 Zeilen, wir starten die Iteration mit $\\mathbf{z}^{(0)}=\\left(\\begin{array}{c}\n",
    "0\\\\\n",
    "2\\\\\n",
    "0\\\\\n",
    "0\n",
    "\\end{array}\\right).$\n",
    "\n",
    "  Wir schreiben in Python jeden Iterationsschritt $\\mathbf{z}^{(1)},...,\\mathbf{z}^{(10)}$ als zusätzliche Spalte auf, d.h. wir haben schliesslich in Python eine (4 x 11) Matrix \n",
    "  \n",
    " $$\\mathbf{z}=[\\mathbf{z}^{(0)}, \\mathbf{z}^{(1)}, ... ,\\mathbf{z}^{(10)}]$$"
   ]
  },
  {
   "cell_type": "markdown",
   "metadata": {},
   "source": [
    "- Wir definieren zuerst das Interval $[a,b]$, die Schrittweite $h$ bzw. die Anzahl Schritte $n=\\frac{b-a}{h}$, die Lösungsvektoren bzw. -matrizen $\\mathbf{x}$ und $\\mathbf{z}$ und die Anfangswerte $x_0$ resp. $\\mathbf{z}^{(0)}$:  \n",
    "  "
   ]
  },
  {
   "cell_type": "code",
   "execution_count": 1,
   "metadata": {},
   "outputs": [
    {
     "name": "stdout",
     "output_type": "stream",
     "text": [
      "x=  [0. 0. 0. 0. 0. 0. 0. 0. 0. 0. 0.]\n",
      "z=  [[0. 0. 0. 0. 0. 0. 0. 0. 0. 0. 0.]\n",
      " [2. 0. 0. 0. 0. 0. 0. 0. 0. 0. 0.]\n",
      " [0. 0. 0. 0. 0. 0. 0. 0. 0. 0. 0.]\n",
      " [0. 0. 0. 0. 0. 0. 0. 0. 0. 0. 0.]]\n"
     ]
    },
    {
     "name": "stderr",
     "output_type": "stream",
     "text": [
      "<ipython-input-1-a8835b5fd930>:6: DeprecationWarning: `np.int` is a deprecated alias for the builtin `int`. To silence this warning, use `int` by itself. Doing this will not modify any behavior and is safe. When replacing `np.int`, you may wish to use e.g. `np.int64` or `np.int32` to specify the precision. If you wish to review your current use, check the release note link for additional information.\n",
      "Deprecated in NumPy 1.20; for more details and guidance: https://numpy.org/devdocs/release/1.20.0-notes.html#deprecations\n",
      "  n = np.int((b-a)/h)\n"
     ]
    }
   ],
   "source": [
    "import numpy as np\n",
    "\n",
    "a = 0.\n",
    "b = 1.\n",
    "h = 0.1\n",
    "n = np.int((b-a)/h)\n",
    "rows = 4\n",
    "\n",
    "x = np.zeros(n+1)\n",
    "z = np.zeros([rows,n+1])\n",
    "\n",
    "x[0] = a\n",
    "z[:,0] =np.array([0.,2.,0.,0.])\n",
    "\n",
    "print('x= ',x)\n",
    "print('z= ',z)"
   ]
  },
  {
   "cell_type": "markdown",
   "metadata": {},
   "source": [
    "- Wir definieren jetzt die vektorwertige Funktion $\\boldsymbol{f}(x,\\mathbf{z})$ \n",
    "<details>\n",
    "$$\n",
    "\\boldsymbol{f}(x,\\mathbf{z})=\\left(\\begin{array}{c}\n",
    "z_{2}\\\\\n",
    "z_{3}\\\\\n",
    "z_{4}\\\\\n",
    "\\sin x+5-1.1\\cdot z_{4}+0.1\\cdot z_{3}+0.3\\cdot z_{1}\n",
    "\\end{array}\\right)\n",
    "$$\n",
    "  Achtung: wegen der Indexierung in Python gilt für die Zeilenelemente von $\\mathbf{z}$: $z_1$=z[0], $z_2$=z[1] etc.\n"
   ]
  },
  {
   "cell_type": "code",
   "execution_count": 2,
   "metadata": {},
   "outputs": [
    {
     "name": "stdout",
     "output_type": "stream",
     "text": [
      "[2. 0. 0. 5.]\n"
     ]
    }
   ],
   "source": [
    "def f(x,z): \n",
    "    return np.array([z[1], z[2], z[3], np.sin(x)+5-1.1*z[3]+0.1*z[2]+0.3*z[0]])\n",
    "print(f(x[0],z[:,0]))"
   ]
  },
  {
   "cell_type": "markdown",
   "metadata": {},
   "source": [
    " \n",
    "- Schliesslich folgt die Definition des klass. Euler-Verfahrens für Vektoren:\n",
    "  $$\\begin{eqnarray*}\n",
    "    x_{i+1}\t&=&\tx_{i}+h \\\\\n",
    "    \\boldsymbol{z}^{(i+1)}\t&=&\t\\boldsymbol{z}^{(i)}+\\boldsymbol{f}(x_i,\\mathbf{z}^{(i)})\\cdot h\n",
    "    \\end{eqnarray*}\n",
    "  $$"
   ]
  },
  {
   "cell_type": "code",
   "execution_count": 3,
   "metadata": {},
   "outputs": [],
   "source": [
    "for i in range(0,n):\n",
    "    x[i+1]=x[i]+h\n",
    "    z[:,i+1]=z[:,i]+h*f(x[i],z[:,i])\n",
    "    \n",
    "  \n",
    "   "
   ]
  },
  {
   "cell_type": "markdown",
   "metadata": {},
   "source": [
    "- Die gesuchte Lösung $y(x)$ der ursprünglichen DGL \n",
    "$$y^{(4)}+1.1y'''-0.1y''-0.3y=\\sin x+5$$ \n",
    "\n",
    "  findet sich wegen $z_1(x)=y(x)$ in der ersten Komponenten von $\\mathbf{z}$, analog gilt $z_2(x)=y'(x)$ etc.:"
   ]
  },
  {
   "cell_type": "code",
   "execution_count": 4,
   "metadata": {},
   "outputs": [
    {
     "data": {
      "text/plain": [
       "([<matplotlib.lines.Line2D at 0x17972bfdac0>,\n",
       "  <matplotlib.lines.Line2D at 0x17972bfd940>,\n",
       "  <matplotlib.lines.Line2D at 0x17972bfdc40>,\n",
       "  <matplotlib.lines.Line2D at 0x17972bfdcd0>],\n",
       " <matplotlib.legend.Legend at 0x17972c14760>)"
      ]
     },
     "execution_count": 4,
     "metadata": {},
     "output_type": "execute_result"
    },
    {
     "data": {
      "image/png": "[encoded data removed]",
      "text/plain": [
       "<Figure size 432x288 with 1 Axes>"
      ]
     },
     "metadata": {
      "needs_background": "light"
     },
     "output_type": "display_data"
    }
   ],
   "source": [
    "import matplotlib.pyplot as plt\n",
    "plt.plot(x,z[0,:],x,z[1,:],x,z[2,:],x,z[3,:]), plt.legend([\"Lösung y(x)\", \"y'(x)\",\"y''(x)\",\"y'''(x)\"])   "
   ]
  },
  {
   "cell_type": "markdown",
   "metadata": {},
   "source": [
    "### D) Lösung für das klass. vierstufige Runge-Kutta Verfahren in Python\n",
    "\n",
    "- Für das klass. vierstufige Runge-Kutta Verfahrens gilt für Vektoren:\n",
    "  $$\\begin{eqnarray*}\n",
    "   \\boldsymbol{k}_{1}\t&=&\tf(x_{i},\\,\\boldsymbol{z}^{(i)}) \\\\\n",
    "   \\boldsymbol{k}_{2}\t&=&\tf(x_{i}+\\frac{h}{2},\\,\\boldsymbol{z}^{(i)}+\\frac{h}{2}\\boldsymbol{k}_{1}) \\\\\n",
    "   \\boldsymbol{k}_{3}\t&=&\tf(x_{i}+\\frac{h}{2},\\,\\boldsymbol{z}^{(i)}+\\frac{h}{2}\\boldsymbol{k}_{2}) \\\\\n",
    "   \\boldsymbol{k}_{4}\t&=&\tf(x_{i}+h,\\,\\boldsymbol{z}^{(i)}+h\\boldsymbol{k}_{3}) \\\\\n",
    "               x_{i+1}\t&=&\tx_{i}+h \\\\\n",
    "   \\boldsymbol{z}^{(i+1)}\t&=&\t\\boldsymbol{z}^{(i)}+h\\cdot\\frac{1}{6}\\left(\\boldsymbol{k}_{1}+2\\boldsymbol{k}_{2}+2\\boldsymbol{k}_{3}+\\boldsymbol{k}_{4}\\right)\n",
    "    \\end{eqnarray*}\n",
    "  $$\n",
    "   "
   ]
  },
  {
   "cell_type": "markdown",
   "metadata": {},
   "source": [
    "- Verwenden Sie nun das klass. vierstufige Runge-Kutta Verfahren zur Lösung der selben vektoriellen DGL. Plotten Sie Ihre neue Lösung.\n",
    "<details>\n",
    "$$\n",
    "\\mathbf{z}'=\\left(\\begin{array}{c}\n",
    "z_{1}'\\\\\n",
    "z_{2}'\\\\\n",
    "z_{3}'\\\\\n",
    "z_{4}'\n",
    "\\end{array}\\right)=\\left(\\begin{array}{c}\n",
    "z_{2}\\\\\n",
    "z_{3}\\\\\n",
    "z_{4}\\\\\n",
    "\\sin x+5-1.1\\cdot z_{4}+0.1\\cdot z_{3}+0.3\\cdot z_{1}\n",
    "\\end{array}\\right)=\\boldsymbol{f}(x,\\mathbf{z})\\ \\textrm{und }\\mathbf{z}(0)=\\mathbf{z}^{(0)}=\\left(\\begin{array}{c}\n",
    "0\\\\\n",
    "2\\\\\n",
    "0\\\\\n",
    "0\n",
    "\\end{array}\\right)\n",
    "$$\n",
    "\n",
    "    für $x\\in[0,1]$ und $h=0.1$ (also $n=\\frac{b-a}{h}=10$)."
   ]
  },
  {
   "cell_type": "code",
   "execution_count": 5,
   "metadata": {},
   "outputs": [],
   "source": [
    "# Hier folgt Ihr Code\n",
    "\n",
    "import numpy as np\n",
    "import matplotlib.pyplot as plt\n",
    "\n",
    "\n",
    "\n"
   ]
  },
  {
   "cell_type": "code",
   "execution_count": 6,
   "metadata": {},
   "outputs": [
    {
     "name": "stdout",
     "output_type": "stream",
     "text": [
      "[[0. 0. 0. 0. 0. 0. 0. 0. 0. 0. 0.]\n",
      " [2. 0. 0. 0. 0. 0. 0. 0. 0. 0. 0.]\n",
      " [0. 0. 0. 0. 0. 0. 0. 0. 0. 0. 0.]\n",
      " [0. 0. 0. 0. 0. 0. 0. 0. 0. 0. 0.]]\n"
     ]
    },
    {
     "name": "stderr",
     "output_type": "stream",
     "text": [
      "<ipython-input-6-dfdc2fa3f3a1>:4: DeprecationWarning: `np.int` is a deprecated alias for the builtin `int`. To silence this warning, use `int` by itself. Doing this will not modify any behavior and is safe. When replacing `np.int`, you may wish to use e.g. `np.int64` or `np.int32` to specify the precision. If you wish to review your current use, check the release note link for additional information.\n",
      "Deprecated in NumPy 1.20; for more details and guidance: https://numpy.org/devdocs/release/1.20.0-notes.html#deprecations\n",
      "  n = np.int((b-a)/h)\n"
     ]
    }
   ],
   "source": [
    "a = 0.\n",
    "b = 1.\n",
    "h = 0.1\n",
    "n = np.int((b-a)/h)\n",
    "rows = 4\n",
    "\n",
    "x = np.zeros(n+1)\n",
    "z = np.zeros([rows,n+1])\n",
    "\n",
    "x[0] = a\n",
    "z[:,0] =np.array([0.,2.,0.,0.])\n",
    "print(z)"
   ]
  },
  {
   "cell_type": "code",
   "execution_count": 7,
   "metadata": {},
   "outputs": [],
   "source": [
    "def f(x,z):\n",
    "    return np.array([z[1], z[2], z[3], np.sin(x)+5-1.1*z[3]+0.1*z[2]+0.3*z[0]])"
   ]
  },
  {
   "cell_type": "code",
   "execution_count": 8,
   "metadata": {},
   "outputs": [],
   "source": [
    "for i in range(x.shape[0]-1):\n",
    "    x[i+1]=x[i]+h\n",
    "    k1 = f(x[i], z[:,i]) \n",
    "    k2 = f(x[i] + (h / 2.0), z[:,i] + (h / 2.0) * k1)\n",
    "    k3 = f(x[i] + (h / 2.0), z[:,i] + (h / 2.0) * k2)\n",
    "    k4 = f(x[i] + h, z[:,i] + h * k3)\n",
    "    z[:,i+1] = z[:,i] + h*(1/6)*(k1+2*k2+2*k3+k4)\n",
    "   \n",
    "\n",
    "\n"
   ]
  },
  {
   "cell_type": "code",
   "execution_count": 9,
   "metadata": {},
   "outputs": [
    {
     "data": {
      "image/png": "[encoded data removed]",
      "text/plain": [
       "<Figure size 432x288 with 1 Axes>"
      ]
     },
     "metadata": {
      "needs_background": "light"
     },
     "output_type": "display_data"
    }
   ],
   "source": [
    "plt.figure(1)\n",
    "plt.title(\"Lösung mit Runge-Kutta\")\n",
    "plt.plot(x,z[0,:],x,z[1,:],x,z[2,:],x,z[3,:]) \n",
    "plt.legend([\"Lösung y(x)\", \"y'(x)\",\"y''(x)\",\"y'''(x)\"]) \n",
    "\n",
    "plt.show()"
   ]
  },
  {
   "cell_type": "markdown",
   "metadata": {},
   "source": [
    "# Aufgabe 2\n",
    "\n",
    "\n",
    "Die Differentialgleichung eines Fadenpendels lautet für den Auslenkwinkel $\\varphi=\\varphi(t)$ unter Berücksichtigung des Luftwiderstandes \n",
    "\n",
    "$$\\frac{d^2\\varphi}{dt^2}+\\frac{c}{m}\\frac{d\\varphi}{dt}+\\frac{g}{l}\\sin\\varphi=0.$$ \n",
    "\n",
    "Dabei ist $c=0.16$ [Ns/m] der Dämpfungskoeffizient, $m=1$ [kg] die Masse, $l=1.2$ [m] die Länge des Fadens und $g=9.81$ [mkg/$\\textrm{s}^{2}$] die Fallbeschleunigung. Die Anfangsbedingungen sind $\\varphi(0)=\\frac{\\pi}{2}$, $\\varphi'(0)=0$. \n",
    "\n",
    "Berechnen Sie die Lösung $\\varphi(t)$ mittels des klassischen vierstufigen Runge-Kutta Verfahrens für $t\\in[0,60]$ (in Sekunden) und Schrittweite $\\Delta t=0.1$ und plotten Sie die Lösungskurve.  \n"
   ]
  },
  {
   "cell_type": "markdown",
   "metadata": {},
   "source": [
    "## Lösung Aufgabe 2\n"
   ]
  },
  {
   "cell_type": "markdown",
   "metadata": {},
   "source": [
    "### A) Umwandlung der DGL 2. Ordnung in ein vektorielles System von 2 DGL 1. Ordnung\n",
    "Versuchen Sie, die Schritte selbst durchzuführen, und klicken Sie anschliessend auf Details, um sich die Lösung anzeigen zu lassen.\n",
    "\n",
    "+ ####    Schritt 1: Auflösen der DGL nach der höchsten Ableitung (hier: 2): \n",
    "<details>\n",
    "$$\\frac{d^2\\varphi}{dt^2}=-\\frac{c}{m}\\frac{d\\varphi}{dt}-\\frac{g}{l}\\sin\\varphi$$"
   ]
  },
  {
   "cell_type": "markdown",
   "metadata": {},
   "source": [
    "- #### Schritt 2: Neue Funktionen einführen bis zur höchsten Ableitung minus 1 (hier: 1):\n",
    "<details>\n",
    "$$\\begin{eqnarray*}\n",
    "z_{1}(t) & = & \\varphi(t)\\\\\n",
    "z_{2}(t) & = & \\frac{d\\varphi}{dt}\n",
    "\\end{eqnarray*}$$"
   ]
  },
  {
   "cell_type": "markdown",
   "metadata": {},
   "source": [
    "- #### Schritt 3: Neue Funktionen ableiten und $\\varphi$, $\\frac{d\\varphi}{dt}$ ersetzen:\n",
    "<details>\n",
    "$$\\begin{eqnarray*}\n",
    "z_{1}'(x) & = & \\frac{d\\varphi}{dt}=z_{2}(x)\\\\\n",
    "z_{2}'(x) & = & \\frac{d^2\\varphi}{dt^2} = -\\frac{c}{m}\\frac{d\\varphi}{dt}-\\frac{g}{l}\\sin\\varphi = -\\frac{c}{m}\\cdot z_2(t)-\\frac{g}{l}\\cdot \\sin z_1(t)\n",
    "\\end{eqnarray*}$$"
   ]
  },
  {
   "cell_type": "markdown",
   "metadata": {},
   "source": [
    "- #### Schritt 4: Aufschreiben des Anfangswertproblems in vektorieller Form\n",
    "<details>\n",
    "$$\n",
    "\\mathbf{z}'=\\left(\\begin{array}{c}\n",
    "z_{1}'\\\\\n",
    "z_{2}'\n",
    "\\end{array}\\right)=\\left(\\begin{array}{c}\n",
    "z_{2}\\\\\n",
    "-\\frac{c}{m}\\cdot z_2(t)-\\frac{g}{l}\\cdot \\sin z_1(t)\n",
    "\\end{array}\\right)\n",
    "=\\boldsymbol{f}(t,\\mathbf{z})\\ \\textrm{und }\\mathbf{z}(0)=\\mathbf{z}^{(0)}=\\left(\\begin{array}{c}\n",
    "\\pi/2\\\\\n",
    "0\n",
    "\\end{array}\\right)\n",
    "$$"
   ]
  },
  {
   "cell_type": "markdown",
   "metadata": {},
   "source": [
    "### B) Lösung für das klass. vierstufige Runge-Kutta Verfahren in Python\n",
    "\n",
    "- Für das klass. vierstufige Runge-Kutta Verfahrens gilt für Vektoren:\n",
    "  $$\\begin{eqnarray*}\n",
    "   \\boldsymbol{k}_{1}\t&=&\tf(x_{i},\\,\\boldsymbol{z}^{(i)}) \\\\\n",
    "   \\boldsymbol{k}_{2}\t&=&\tf(x_{i}+\\frac{h}{2},\\,\\boldsymbol{z}^{(i)}+\\frac{h}{2}\\boldsymbol{k}_{1}) \\\\\n",
    "   \\boldsymbol{k}_{3}\t&=&\tf(x_{i}+\\frac{h}{2},\\,\\boldsymbol{z}^{(i)}+\\frac{h}{2}\\boldsymbol{k}_{2}) \\\\\n",
    "   \\boldsymbol{k}_{4}\t&=&\tf(x_{i}+h,\\,\\boldsymbol{z}^{(i)}+h\\boldsymbol{k}_{3}) \\\\\n",
    "               x_{i+1}\t&=&\tx_{i}+h \\\\\n",
    "   \\boldsymbol{z}^{(i+1)}\t&=&\t\\boldsymbol{z}^{(i)}+h\\cdot\\frac{1}{6}\\left(\\boldsymbol{k}_{1}+2\\boldsymbol{k}_{2}+2\\boldsymbol{k}_{3}+\\boldsymbol{k}_{4}\\right)\n",
    "    \\end{eqnarray*}\n",
    "  $$\n",
    "   "
   ]
  },
  {
   "cell_type": "markdown",
   "metadata": {},
   "source": [
    "- Verwenden Sie nun das klass. vierstufige Runge-Kutta Verfahren zur Lösung der selben vektoriellen DGL. Plotten Sie Ihre neue Lösung.\n"
   ]
  },
  {
   "cell_type": "code",
   "execution_count": 10,
   "metadata": {},
   "outputs": [],
   "source": [
    "# Hier folgt Ihr Code\n",
    "\n",
    "import numpy as np\n",
    "import matplotlib.pyplot as plt\n",
    "\n",
    "\n"
   ]
  },
  {
   "cell_type": "code",
   "execution_count": 11,
   "metadata": {},
   "outputs": [],
   "source": [
    "a = 0\n",
    "b = 60\n",
    "h = 0.1\n",
    "n = int((b-a)/h)\n",
    "c = 0.16\n",
    "m = 1\n",
    "l = 1.2\n",
    "g = 9.81\n",
    "\n",
    "rows = 2\n",
    "phi0 = np.pi/2\n",
    "x = np.zeros(n+1)\n",
    "z = np.zeros([rows,n+1])\n",
    "x[0] = a\n",
    "z[:,0] =np.array([phi0,0],dtype=np.float64)"
   ]
  },
  {
   "cell_type": "code",
   "execution_count": 12,
   "metadata": {},
   "outputs": [],
   "source": [
    "def f(x,z):\n",
    "    return np.array([z[1],-((c/m)*z[1])-(g/l)*np.sin(z[0])])"
   ]
  },
  {
   "cell_type": "code",
   "execution_count": 13,
   "metadata": {},
   "outputs": [],
   "source": [
    "for i in range(x.shape[0] - 1):\n",
    "    x[i+1]=x[i]+h\n",
    "    k1 = f(x[i], z[:,i])\n",
    "    k2 = f(x[i] + (h / 2.0), z[:,i] + (h / 2.0) * k1)\n",
    "    k3 = f(x[i] + (h / 2.0), z[:,i] + (h / 2.0) * k2)\n",
    "    k4 = f(x[i] + h, z[:,i] + h * k3)\n",
    "\n",
    "    z[:,i+1] = z[:,i] + h * (1 / 6.0) * (k1 + 2 * k2 + 2 * k3 + k4)\n",
    "\n"
   ]
  },
  {
   "cell_type": "code",
   "execution_count": 14,
   "metadata": {},
   "outputs": [
    {
     "data": {
      "image/png": "[encoded data removed]",
      "text/plain": [
       "<Figure size 432x288 with 1 Axes>"
      ]
     },
     "metadata": {
      "needs_background": "light"
     },
     "output_type": "display_data"
    }
   ],
   "source": [
    "plt.figure(3)\n",
    "plt.title('Runge-Kutta Feder')\n",
    "\n",
    "plt.plot(x,z[0,:],x,z[1,:]) \n",
    "plt.legend([\"Lösung y(x)\", \"y'(x)\"]) \n",
    "plt.show()"
   ]
  },
  {
   "cell_type": "code",
   "execution_count": null,
   "metadata": {},
   "outputs": [],
   "source": []
  },
  {
   "cell_type": "code",
   "execution_count": null,
   "metadata": {},
   "outputs": [],
   "source": []
  }
 ],
 "metadata": {
  "kernelspec": {
   "display_name": "Python 3",
   "language": "python",
   "name": "python3"
  },
  "language_info": {
   "codemirror_mode": {
    "name": "ipython",
    "version": 3
   },
   "file_extension": ".py",
   "mimetype": "text/x-python",
   "name": "python",
   "nbconvert_exporter": "python",
   "pygments_lexer": "ipython3",
   "version": "3.8.8"
  }
 },
 "nbformat": 4,
 "nbformat_minor": 2
}
